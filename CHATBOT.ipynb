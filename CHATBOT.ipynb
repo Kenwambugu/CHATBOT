{
 "cells": [
  {
   "cell_type": "code",
   "execution_count": 1,
   "id": "3536f4e0-317b-43e8-8aaf-adeeb2db2a87",
   "metadata": {},
   "outputs": [
    {
     "name": "stdout",
     "output_type": "stream",
     "text": [
      "👋 Hello! I'm CryptoBuddy — your friendly crypto advisor. Let's find the best coin for you! 💰🌱\n"
     ]
    },
    {
     "name": "stdin",
     "output_type": "stream",
     "text": [
      "\n",
      "You:  Which crypto is trending up?\n"
     ]
    },
    {
     "name": "stdout",
     "output_type": "stream",
     "text": [
      "CryptoBuddy: The following cryptocurrencies are trending up: Bitcoin, Cardano. 🚀\n"
     ]
    },
    {
     "name": "stdin",
     "output_type": "stream",
     "text": [
      "\n",
      "You:  what's the most sustainable coin?\n"
     ]
    },
    {
     "name": "stdout",
     "output_type": "stream",
     "text": [
      "CryptoBuddy: Consider investing in Cardano! 🌱 It's eco-friendly with a sustainability score of 8/10.\n"
     ]
    },
    {
     "name": "stdin",
     "output_type": "stream",
     "text": [
      "\n",
      "You:  which crypto should i buy for long-term growth?\n"
     ]
    },
    {
     "name": "stdout",
     "output_type": "stream",
     "text": [
      "CryptoBuddy: For long-term growth, consider: Bitcoin. 📈\n"
     ]
    },
    {
     "name": "stdin",
     "output_type": "stream",
     "text": [
      "\n",
      "You:  exit\n"
     ]
    },
    {
     "name": "stdout",
     "output_type": "stream",
     "text": [
      "CryptoBuddy: Goodbye! Remember, always do your own research before investing. 👋\n"
     ]
    }
   ],
   "source": [
    "# Define the cryptocurrency database\n",
    "crypto_db = {\n",
    "    \"Bitcoin\": {\n",
    "        \"price_trend\": \"rising\",\n",
    "        \"market_cap\": \"high\",\n",
    "        \"energy_use\": \"high\",\n",
    "        \"sustainability_score\": 3\n",
    "    },\n",
    "    \"Ethereum\": {\n",
    "        \"price_trend\": \"stable\",\n",
    "        \"market_cap\": \"high\",\n",
    "        \"energy_use\": \"medium\",\n",
    "        \"sustainability_score\": 6\n",
    "    },\n",
    "    \"Cardano\": {\n",
    "        \"price_trend\": \"rising\",\n",
    "        \"market_cap\": \"medium\",\n",
    "        \"energy_use\": \"low\",\n",
    "        \"sustainability_score\": 8\n",
    "    }\n",
    "}\n",
    "\n",
    "# Function to get user input\n",
    "def get_user_input():\n",
    "    return input(\"\\nYou: \").lower()\n",
    "\n",
    "# Function to find the most sustainable cryptocurrency\n",
    "def find_most_sustainable():\n",
    "    return max(crypto_db, key=lambda x: crypto_db[x][\"sustainability_score\"])\n",
    "\n",
    "# Function to find cryptocurrencies that are trending up\n",
    "def find_trending_up():\n",
    "    return [coin for coin in crypto_db if crypto_db[coin][\"price_trend\"] == \"rising\"]\n",
    "\n",
    "# Function to recommend cryptocurrencies for long-term growth\n",
    "def recommend_for_growth():\n",
    "    recommendations = []\n",
    "    for coin, data in crypto_db.items():\n",
    "        if data[\"price_trend\"] == \"rising\" and data[\"market_cap\"] == \"high\":\n",
    "            recommendations.append(coin)\n",
    "    return recommendations\n",
    "\n",
    "# Main chatbot function\n",
    "def chatbot():\n",
    "    print(\"👋 Hello! I'm CryptoBuddy — your friendly crypto advisor. Let's find the best coin for you! 💰🌱\")\n",
    "    while True:\n",
    "        user_input = get_user_input()\n",
    "        \n",
    "        if \"sustainable\" in user_input:\n",
    "            coin = find_most_sustainable()\n",
    "            print(f\"CryptoBuddy: Consider investing in {coin}! 🌱 It's eco-friendly with a sustainability score of {crypto_db[coin]['sustainability_score']}/10.\")\n",
    "        \n",
    "        elif \"trending\" in user_input or \"rising\" in user_input:\n",
    "            coins = find_trending_up()\n",
    "            print(f\"CryptoBuddy: The following cryptocurrencies are trending up: {', '.join(coins)}. 🚀\")\n",
    "        \n",
    "        elif \"long-term\" in user_input or \"growth\" in user_input:\n",
    "            coins = recommend_for_growth()\n",
    "            if coins:\n",
    "                print(f\"CryptoBuddy: For long-term growth, consider: {', '.join(coins)}. 📈\")\n",
    "            else:\n",
    "                print(\"CryptoBuddy: Currently, no cryptocurrencies meet the criteria for long-term growth.\")\n",
    "        \n",
    "        elif \"exit\" in user_input or \"quit\" in user_input:\n",
    "            print(\"CryptoBuddy: Goodbye! Remember, always do your own research before investing. 👋\")\n",
    "            break\n",
    "        \n",
    "        else:\n",
    "            print(\"CryptoBuddy: I'm sorry, I didn't understand that. Could you please rephrase?\")\n",
    "\n",
    "# Start the chatbot\n",
    "chatbot()\n"
   ]
  },
  {
   "cell_type": "code",
   "execution_count": null,
   "id": "3e01bb1c-6768-465e-86e2-f2680927ad8b",
   "metadata": {},
   "outputs": [],
   "source": []
  }
 ],
 "metadata": {
  "kernelspec": {
   "display_name": "anaconda-panel-2023.05-py310",
   "language": "python",
   "name": "conda-env-anaconda-panel-2023.05-py310-py"
  },
  "language_info": {
   "codemirror_mode": {
    "name": "ipython",
    "version": 3
   },
   "file_extension": ".py",
   "mimetype": "text/x-python",
   "name": "python",
   "nbconvert_exporter": "python",
   "pygments_lexer": "ipython3",
   "version": "3.11.5"
  }
 },
 "nbformat": 4,
 "nbformat_minor": 5
}
